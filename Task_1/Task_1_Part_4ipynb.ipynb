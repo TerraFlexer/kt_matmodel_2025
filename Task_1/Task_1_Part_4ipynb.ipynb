{
 "cells": [
  {
   "cell_type": "code",
   "execution_count": null,
   "metadata": {},
   "outputs": [
    {
     "ename": "ModuleNotFoundError",
     "evalue": "No module named 'dolfin'",
     "output_type": "error",
     "traceback": [
      "\u001b[1;31m---------------------------------------------------------------------------\u001b[0m",
      "\u001b[1;31mModuleNotFoundError\u001b[0m                       Traceback (most recent call last)",
      "Cell \u001b[1;32mIn[5], line 3\u001b[0m\n\u001b[0;32m      1\u001b[0m \u001b[38;5;28;01mimport\u001b[39;00m\u001b[38;5;250m \u001b[39m\u001b[38;5;21;01mnumpy\u001b[39;00m\u001b[38;5;250m \u001b[39m\u001b[38;5;28;01mas\u001b[39;00m\u001b[38;5;250m \u001b[39m\u001b[38;5;21;01mnp\u001b[39;00m\n\u001b[0;32m      2\u001b[0m \u001b[38;5;28;01mimport\u001b[39;00m\u001b[38;5;250m \u001b[39m\u001b[38;5;21;01mmatplotlib\u001b[39;00m\u001b[38;5;21;01m.\u001b[39;00m\u001b[38;5;21;01mpyplot\u001b[39;00m\u001b[38;5;250m \u001b[39m\u001b[38;5;28;01mas\u001b[39;00m\u001b[38;5;250m \u001b[39m\u001b[38;5;21;01mplt\u001b[39;00m\n\u001b[1;32m----> 3\u001b[0m \u001b[38;5;28;01mfrom\u001b[39;00m\u001b[38;5;250m \u001b[39m\u001b[38;5;21;01mdolfin\u001b[39;00m\u001b[38;5;21;01m.\u001b[39;00m\u001b[38;5;21;01madjoint\u001b[39;00m\u001b[38;5;250m \u001b[39m\u001b[38;5;28;01mimport\u001b[39;00m \u001b[38;5;241m*\u001b[39m\n\u001b[0;32m      5\u001b[0m \u001b[38;5;66;03m# Определяем область\u001b[39;00m\n\u001b[0;32m      6\u001b[0m mesh \u001b[38;5;241m=\u001b[39m RectangleMesh(Point(\u001b[38;5;241m0\u001b[39m, \u001b[38;5;241m0\u001b[39m), Point(np\u001b[38;5;241m.\u001b[39mpi, np\u001b[38;5;241m.\u001b[39mpi), \u001b[38;5;241m50\u001b[39m, \u001b[38;5;241m50\u001b[39m)\n",
      "\u001b[1;31mModuleNotFoundError\u001b[0m: No module named 'dolfin'"
     ]
    }
   ],
   "source": [
    "import numpy as np\n",
    "import matplotlib.pyplot as plt\n",
    "from dolfin.adjoint import *\n",
    "\n",
    "mesh = RectangleMesh(Point(0, 0), Point(np.pi, np.pi), 50, 50)\n",
    "\n",
    "V = FunctionSpace(mesh, 'P', 1)\n",
    "\n",
    "g = Expression('sin(x[0]) * sin(x[1])', degree=2)\n",
    "f = Expression('-2*sin(x[0])*sin(x[1])', degree=2)\n",
    "\n",
    "bc = DirichletBC(V, g, 'on_boundary')\n",
    "\n",
    "u = TrialFunction(V)\n",
    "v = TestFunction(V)\n",
    "a = dot(grad(u), grad(v)) * dx\n",
    "L = f * v * dx\n",
    "\n",
    "u_sol = Function(V)\n",
    "solve(a == L, u_sol, bc)\n",
    "\n",
    "plot(u_sol)\n",
    "plt.title('Solution u')\n",
    "plt.colorbar()\n",
    "plt.show()"
   ]
  }
 ],
 "metadata": {
  "kernelspec": {
   "display_name": "venv",
   "language": "python",
   "name": "python3"
  },
  "language_info": {
   "codemirror_mode": {
    "name": "ipython",
    "version": 3
   },
   "file_extension": ".py",
   "mimetype": "text/x-python",
   "name": "python",
   "nbconvert_exporter": "python",
   "pygments_lexer": "ipython3",
   "version": "3.9.13"
  }
 },
 "nbformat": 4,
 "nbformat_minor": 2
}
